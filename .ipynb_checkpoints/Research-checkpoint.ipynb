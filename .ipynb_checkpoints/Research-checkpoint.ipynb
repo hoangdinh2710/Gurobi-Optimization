{
 "cells": [
  {
   "cell_type": "code",
   "execution_count": 1,
   "metadata": {},
   "outputs": [],
   "source": [
    "from gurobipy import *\n",
    "import numpy as np"
   ]
  },
  {
   "cell_type": "code",
   "execution_count": 2,
   "metadata": {},
   "outputs": [
    {
     "name": "stdout",
     "output_type": "stream",
     "text": [
      "Academic license - for non-commercial use only\n"
     ]
    }
   ],
   "source": [
    "# Define model:\n",
    "model = Model('WCVRPTW')"
   ]
  },
  {
   "cell_type": "markdown",
   "metadata": {},
   "source": [
    "## STEP 1: We need to create list to store input variables"
   ]
  },
  {
   "cell_type": "markdown",
   "metadata": {},
   "source": [
    "**Capacity**\n",
    "\n",
    "Assume that each vehile will have 200 pounds capacity"
   ]
  },
  {
   "cell_type": "code",
   "execution_count": 3,
   "metadata": {},
   "outputs": [],
   "source": [
    "cap = 200"
   ]
  },
  {
   "cell_type": "markdown",
   "metadata": {},
   "source": [
    "**Depot**\n",
    "\n",
    "There are 2 depots : out and in"
   ]
  },
  {
   "cell_type": "code",
   "execution_count": 4,
   "metadata": {},
   "outputs": [],
   "source": [
    "depot_list = ['out','in']"
   ]
  },
  {
   "cell_type": "markdown",
   "metadata": {},
   "source": [
    "**Disposal**\n",
    "\n",
    "Assume there are 2 disposal places"
   ]
  },
  {
   "cell_type": "code",
   "execution_count": 5,
   "metadata": {},
   "outputs": [],
   "source": [
    "m = 2\n",
    "dis_list =  list(map(str,[i for i in range(1,m+1)]))"
   ]
  },
  {
   "cell_type": "markdown",
   "metadata": {},
   "source": [
    "**Customer:**\n",
    "\n",
    "Assume there are 10 customers\n"
   ]
  },
  {
   "cell_type": "code",
   "execution_count": 6,
   "metadata": {},
   "outputs": [],
   "source": [
    "n = 10\n",
    "cus_list = list(map(str,[i for i in range(m+1,m+n+1)]))"
   ]
  },
  {
   "cell_type": "markdown",
   "metadata": {},
   "source": [
    "**V_list**\n",
    "\n",
    "Create a list for every nodes : depots + disposals + customers"
   ]
  },
  {
   "cell_type": "code",
   "execution_count": 7,
   "metadata": {},
   "outputs": [],
   "source": [
    "V_list =  depot_list + dis_list + cus_list"
   ]
  },
  {
   "cell_type": "markdown",
   "metadata": {},
   "source": [
    "**Depot + customer list**\n",
    "\n",
    "Creat a lsit only depot and customer:( for later constraints)"
   ]
  },
  {
   "cell_type": "code",
   "execution_count": 8,
   "metadata": {},
   "outputs": [],
   "source": [
    "de_cus_list = depot_list + cus_list"
   ]
  },
  {
   "cell_type": "markdown",
   "metadata": {},
   "source": [
    "**Create set of arc**\n",
    "\n",
    "- We need to creat any possible paths that a vehile can take ( paths can be reversible). For example:\n",
    "\n",
    "There are three nodes : {1,2,3}\n",
    "\n",
    "Then all possible paths are: {1,2},{1,3},{2,3},{2,1},{3,1},{3,2}\n",
    "\n",
    "Note that {1,1},{2,2},{3,3} are **NOT** a valid path.\n",
    "\n",
    "- To create the list path we do the following :\n",
    "\n",
    "    For any node i in V_list ( V_list includes every nodes ):\n",
    "\n",
    "        for any node j in V_list:( with j not equal to i)\n",
    "\n",
    "            create an arc: (i,j)\n"
   ]
  },
  {
   "cell_type": "code",
   "execution_count": 9,
   "metadata": {},
   "outputs": [],
   "source": [
    "# List of Arc:\n",
    "arc_list = [(i,j) for i in V_list for j in V_list if i!= j]"
   ]
  },
  {
   "cell_type": "markdown",
   "metadata": {},
   "source": [
    "Since the vehile cannot go directly from the \"out depot\" to the \"in depot\", we remove this cases out of the list or arc"
   ]
  },
  {
   "cell_type": "code",
   "execution_count": 10,
   "metadata": {},
   "outputs": [],
   "source": [
    "arc_list1 = [(i,j) for i in V_list for j in V_list[:] if i!= j]\n",
    "arc_list1.remove(('out','in'))\n",
    "arc_list1.remove(('in','out'))"
   ]
  },
  {
   "cell_type": "markdown",
   "metadata": {},
   "source": [
    "**Vehile**\n",
    "\n",
    "Creat a list of vehile. In this example, we assume 2 vehiles. The list of vehile created is: [\"Veh1\",\"Veh2\"]"
   ]
  },
  {
   "cell_type": "code",
   "execution_count": 11,
   "metadata": {},
   "outputs": [],
   "source": [
    "no_veh = 2\n",
    "veh_list =  [\"Veh\"+str(i) for i in range(1,no_veh+1)]"
   ]
  },
  {
   "cell_type": "markdown",
   "metadata": {},
   "source": [
    "## STEP 2: Create inputs\n",
    "\n",
    "Normally, inputs will be given. In this example, we don't have the actual input therefore we will create random inputs to test the model"
   ]
  },
  {
   "cell_type": "markdown",
   "metadata": {},
   "source": [
    "**Set travel time between each arc**\n",
    "\n",
    "Create a dictionary : for each arc, assign an random value that represent the travel time of that arc"
   ]
  },
  {
   "cell_type": "code",
   "execution_count": 12,
   "metadata": {},
   "outputs": [],
   "source": [
    "travel_time_rd = np.random.rand(len(arc_list))\n",
    "travel_time = dict(zip(arc_list,travel_time_rd))"
   ]
  },
  {
   "cell_type": "markdown",
   "metadata": {},
   "source": [
    "**Set service cost between each arc**\n",
    "\n",
    "Create a dictionary : for each arc, assign an random value that represent the service cost of that arc"
   ]
  },
  {
   "cell_type": "code",
   "execution_count": 13,
   "metadata": {},
   "outputs": [],
   "source": [
    "service_cost_rd = np.random.rand(len(arc_list))\n",
    "service_cost = dict(zip(arc_list,service_cost_rd))"
   ]
  },
  {
   "cell_type": "markdown",
   "metadata": {},
   "source": [
    "**Set service time at each node:**\n",
    "    \n",
    "Create a dictionaru: for each node in V_list, assign an random value for that node"
   ]
  },
  {
   "cell_type": "code",
   "execution_count": 14,
   "metadata": {},
   "outputs": [],
   "source": [
    "service_time_rd = np.random.rand(len(V_list))\n",
    "service_time = dict(zip(V_list,service_time_rd))"
   ]
  },
  {
   "cell_type": "markdown",
   "metadata": {},
   "source": [
    "**Set time window low and high at each node:**\n",
    "    \n",
    "Create two dictionaries : Low window and High Window ( These are boundary of the starting time )\n",
    "    \n",
    "For every node, assigns an low window and high windown pick up time.\n",
    "\n",
    "For example: At node 1, start time must be in range from (5:00 am to 15:00 pm)\n",
    "    \n",
    "In this case, we use start time low = 1 and start time high = 20 for every node."
   ]
  },
  {
   "cell_type": "code",
   "execution_count": 15,
   "metadata": {},
   "outputs": [],
   "source": [
    "# Set time window low at each node:\n",
    "#time_win_low_rd = np.random.rand(len(V_list))\n",
    "time_win_low_rd = np.ones(len(V_list))*1\n",
    "time_win_low = dict(zip(V_list,time_win_low_rd))\n",
    "#time_win_low = model.addVars(V_list, name = \"time_win_low\")\n",
    "\n",
    "# Set time window high at each node:\n",
    "#time_win_high_rd = np.random.rand(len(V_list))\n",
    "time_win_high_rd = np.ones(len(V_list))*20\n",
    "time_win_high = dict(zip(V_list,time_win_high_rd))\n",
    "#time_win_high = model.addVars(V_list, name = \"time_win_high\")"
   ]
  },
  {
   "cell_type": "markdown",
   "metadata": {},
   "source": [
    "**Set amount pick up at customer i:**\n",
    "    \n",
    "At depot and diposal , the amount pick up = 0"
   ]
  },
  {
   "cell_type": "code",
   "execution_count": 16,
   "metadata": {},
   "outputs": [],
   "source": [
    "# Set the amount pick up at depot and disposal = 0\n",
    "pick_amount_rd_1 = np.zeros(len(depot_list) + len(dis_list)) \n",
    "pick_amount_rd_2 = np.random.rand(len(cus_list))*10\n",
    "\n",
    "# Set the amount pick up at every customer randomly\n",
    "pick_amount_rd = list(pick_amount_rd_1)+list(pick_amount_rd_2)\n",
    "\n",
    "# Create a dictionary for the amount pick of at every node\n",
    "pick_amount = dict(zip(V_list,pick_amount_rd))\n"
   ]
  },
  {
   "cell_type": "markdown",
   "metadata": {},
   "source": [
    "## STEP 3: Set variables"
   ]
  },
  {
   "cell_type": "markdown",
   "metadata": {},
   "source": [
    "There are three varibles : \n",
    "\n",
    "- x_ijl[arc,l] = 1 or 0, if vehile \"l\" take path \"arc\" then x_ijl[arc,l] = 1 ; otherwise = 0\n",
    "- acc_demand[i,l] : accumulated demand at node i, of vehicle l\n",
    "- start_time[i,l] : start time at node i, of vehicle l"
   ]
  },
  {
   "cell_type": "code",
   "execution_count": 17,
   "metadata": {},
   "outputs": [],
   "source": [
    "# SET VARIABLES\n",
    "\n",
    "x_ijl ={}\n",
    "acc_demand ={}\n",
    "start_time ={}\n",
    "\n",
    "# Set x_ijl : for every arc in arc_list, for every l in veh_list\n",
    "\n",
    "for arc in arc_list:\n",
    "    for l in veh_list:\n",
    "        x_ijl[arc,l] = model.addVar(vtype=GRB.BINARY,name = 'x_{0}{1}{2}'.format(arc[0],arc[1],l))\n",
    "\n",
    "        \n",
    "# Set accumulative demand and start time at note i in V , for vehicle l in K\n",
    "\n",
    "\n",
    "for i in V_list:\n",
    "    for l in veh_list:\n",
    "        acc_demand[i,l] = model.addVar(vtype = GRB.CONTINUOUS,name = 'acc_demand_{0}_{1}'.format(i,l))\n",
    "        start_time[i,l] = model.addVar(vtype = GRB.CONTINUOUS,name = 'start_time_{0}_{1}'.format(i,l))\n"
   ]
  },
  {
   "cell_type": "code",
   "execution_count": 18,
   "metadata": {},
   "outputs": [],
   "source": [
    "# Update variables\n",
    "\n",
    "model.update()"
   ]
  },
  {
   "cell_type": "markdown",
   "metadata": {},
   "source": [
    "## Step 4:\n",
    "\n",
    "Set constraints"
   ]
  },
  {
   "cell_type": "markdown",
   "metadata": {},
   "source": [
    "$\\sum_{y \\in V} x_{ojl} = 1 , \\forall l \\in K$ (2)"
   ]
  },
  {
   "cell_type": "code",
   "execution_count": 19,
   "metadata": {},
   "outputs": [],
   "source": [
    "# Condition 2\n",
    "# Sum of x_ojl = 1\n",
    "\n",
    "# Create a list of outflow: \n",
    "\n",
    "ojl_list = [('out',j) for j in V_list if j != 'out']\n",
    "\n",
    "for l in veh_list:\n",
    "    model.addConstr(\n",
    "        quicksum(x_ijl[(arc, l)] for arc in ojl_list) == 1, \"out_{0}_{1}\".format(arc[1],l))"
   ]
  },
  {
   "cell_type": "markdown",
   "metadata": {},
   "source": [
    "$\\sum_{j \\in V} x_{io'l} = 1 , \\forall l \\in K$ (3)"
   ]
  },
  {
   "cell_type": "code",
   "execution_count": 20,
   "metadata": {},
   "outputs": [],
   "source": [
    "# Condition 3\n",
    "# Sum of x_ojl = 1\n",
    "\n",
    "# Create a list of inflow: \n",
    "iol_list = [(i,'in') for i in V_list if i!= 'in']\n",
    "\n",
    "for l in veh_list:\n",
    "    model.addConstr(\n",
    "        quicksum(x_ijl[(arc, l)] for arc in iol_list) == 1 , \"{0}_in_{1}\".format(arc[0],l ))"
   ]
  },
  {
   "cell_type": "markdown",
   "metadata": {},
   "source": [
    "$\\sum_{i \\in V} \\sum_{l \\in K} x_{ijl} = 1, \\forall j \\in V_c$ (4)"
   ]
  },
  {
   "cell_type": "code",
   "execution_count": 21,
   "metadata": {},
   "outputs": [],
   "source": [
    "# Condition 4\n",
    "# Each customer is exactly service one\n",
    "for j in cus_list:\n",
    "    model.addConstr(\n",
    "        (quicksum(x_ijl[(i,j),l] for i in V_list for l in veh_list if i!= j) == 1  ), \"cus_{0}\".format(j))\n"
   ]
  },
  {
   "cell_type": "markdown",
   "metadata": {},
   "source": [
    "$\\sum_{i \\in V} x_{ijl} = \\sum_{i \\in V} x_{jil} ; \\forall j \\in  V_c\\cup V_f, \\ l \\in K$ (5)"
   ]
  },
  {
   "cell_type": "code",
   "execution_count": 22,
   "metadata": {},
   "outputs": [],
   "source": [
    "# Condition 5: Inflow = Outflow at every node\n",
    "for j in V_list[len(depot_list):]:\n",
    "    for l in veh_list:\n",
    "        model.addConstr(\n",
    "            (quicksum(x_ijl[(i,j),l] for i in V_list if i!= j) \n",
    "             == quicksum(x_ijl[(j,i),l] for i in V_list if i!= j)), \"x_{0}_{1}\".format(j,l) )"
   ]
  },
  {
   "cell_type": "markdown",
   "metadata": {},
   "source": [
    "$a_i \\leq w_{il} \\leq b_i ; \\forall(i,j) \\in A, l\\in K$ (6)"
   ]
  },
  {
   "cell_type": "code",
   "execution_count": 23,
   "metadata": {},
   "outputs": [],
   "source": [
    "# Condition 6_1 and 6_2\n",
    "for i in V_list:\n",
    "    for l in veh_list:\n",
    "        model.addConstr(start_time[(i,l)] == [time_win_low[i],time_win_high[i]], \n",
    "                       \"starttime_{0}_{1}\".format(i,l))\n",
    "                                                                                                    \n",
    "# More advance:\n",
    "\n",
    "#model.addConstrs((start_time[(i,l)] == [time_win_low[i],time_win_high[i]] for i in V_list for l in veh_list), \"starttime\")"
   ]
  },
  {
   "cell_type": "markdown",
   "metadata": {},
   "source": [
    "$w_{il}  + S_i +  t_{ij} \\leq w_{jl} + ( 1 - x_{ijl}*M)  ; \\forall (i,j) \\in A, l \\in K$ (7)\n",
    "\n"
   ]
  },
  {
   "cell_type": "code",
   "execution_count": 24,
   "metadata": {},
   "outputs": [],
   "source": [
    "# Constraint 7:\n",
    "M = 100000\n",
    "\n",
    "for arc in arc_list:\n",
    "    for l in veh_list:\n",
    "        model.addConstr(start_time[arc[0], l] +\n",
    "                  service_time[arc[0]] + travel_time[arc]\n",
    "                  <= start_time[arc[1],l] + (1 - x_ijl[arc,l])*M  ,\"time_{0}_{1}_{2}\".format(arc[0],arc[1],l))"
   ]
  },
  {
   "cell_type": "markdown",
   "metadata": {},
   "source": [
    "$\\sum_{i \\in (0,0')} d_{il} = 0 ; \\forall l \\in K$ (8)"
   ]
  },
  {
   "cell_type": "code",
   "execution_count": 25,
   "metadata": {},
   "outputs": [],
   "source": [
    "# Constaint 8:\n",
    "# 8a\n",
    "for l in veh_list:\n",
    "    model.addConstr((acc_demand['out',l] == 0 )  , 'empty_out')\n",
    "# 8b\n",
    "    model.addConstr((acc_demand['in',l] == 0 )  , 'empty_in')"
   ]
  },
  {
   "cell_type": "markdown",
   "metadata": {},
   "source": [
    "$d_{il} + q_i  \\leq d_{jl} + (1 - x_{ijl}*M); \\forall i \\in V \\ V_f, j \\in V, l \\in K$ (9)"
   ]
  },
  {
   "cell_type": "code",
   "execution_count": 26,
   "metadata": {},
   "outputs": [],
   "source": [
    "# Constraint 9:\n",
    "for i in de_cus_list:\n",
    "    for j in V_list:\n",
    "        if j != i:\n",
    "            for l in veh_list:\n",
    "                model.addConstr(acc_demand[i,l] + pick_amount[i] <= acc_demand[j,l] \n",
    "                  + (1 - x_ijl[(i,j),l])*M   ,\"acc_demand_{0}_{1}_{2}\".format(i,j,l))\n"
   ]
  },
  {
   "cell_type": "markdown",
   "metadata": {},
   "source": [
    "$d_{il} \\leq C ; \\forall i \\in V,  l \\in K$ (10)"
   ]
  },
  {
   "cell_type": "code",
   "execution_count": 27,
   "metadata": {},
   "outputs": [],
   "source": [
    "# Constraint 10: Accumulative Demand < Cap\n",
    "\n",
    "for i in V_list:\n",
    "    for l in veh_list:\n",
    "        model.addConstr(acc_demand[i,l] <= cap   , 'acc_dem_{0}{1}'.format(i,l))"
   ]
  },
  {
   "cell_type": "markdown",
   "metadata": {},
   "source": [
    "$d_{il} \\geq 0 ; \\forall i \\in V, l \\in K$  (11)"
   ]
  },
  {
   "cell_type": "code",
   "execution_count": 28,
   "metadata": {},
   "outputs": [],
   "source": [
    "# Constraint 11: Accumulative Demand > 0\n",
    "for i in V_list:\n",
    "    for l in veh_list:\n",
    "        model.addConstr(acc_demand[i,l] >= 0 , 'acc_dem_pos_{0}_{1}'.format(i,l))"
   ]
  },
  {
   "cell_type": "code",
   "execution_count": 29,
   "metadata": {},
   "outputs": [],
   "source": [
    "model.update()"
   ]
  },
  {
   "cell_type": "markdown",
   "metadata": {},
   "source": [
    "## STEP 4: Objective"
   ]
  },
  {
   "cell_type": "markdown",
   "metadata": {},
   "source": [
    "min$\\sum_{(i,j) \\in A} c_{ij} \\sum_{l \\in K}x_{ijl}$"
   ]
  },
  {
   "cell_type": "code",
   "execution_count": 30,
   "metadata": {},
   "outputs": [
    {
     "name": "stdout",
     "output_type": "stream",
     "text": [
      "Optimize a model with 802 rows, 448 columns and 3080 nonzeros\n",
      "Variable types: 84 continuous, 364 integer (364 binary)\n",
      "Coefficient statistics:\n",
      "  Matrix range     [1e+00, 1e+05]\n",
      "  Objective range  [2e-03, 1e+00]\n",
      "  Bounds range     [1e+00, 2e+01]\n",
      "  RHS range        [1e+00, 1e+05]\n",
      "Presolve removed 222 rows and 78 columns\n",
      "Presolve time: 0.00s\n",
      "Presolved: 580 rows, 370 columns, 4930 nonzeros\n",
      "Variable types: 48 continuous, 322 integer (322 binary)\n",
      "Found heuristic solution: objective 8.0871957\n",
      "\n",
      "Root relaxation: objective 2.703335e+00, 80 iterations, 0.00 seconds\n",
      "\n",
      "    Nodes    |    Current Node    |     Objective Bounds      |     Work\n",
      " Expl Unexpl |  Obj  Depth IntInf | Incumbent    BestBd   Gap | It/Node Time\n",
      "\n",
      "     0     0    2.70333    0    6    8.08720    2.70333  66.6%     -    0s\n",
      "     0     0    2.70333    0    6    8.08720    2.70333  66.6%     -    0s\n",
      "H    0     0                       2.7695670    2.70719  2.25%     -    0s\n",
      "     0     0    2.74190    0    6    2.76957    2.74190  1.00%     -    0s\n",
      "     0     0     cutoff    0         2.76957    2.76957  0.00%     -    0s\n",
      "\n",
      "Explored 1 nodes (152 simplex iterations) in 0.07 seconds\n",
      "Thread count was 8 (of 8 available processors)\n",
      "\n",
      "Solution count 2: 2.76957 8.0872 \n",
      "\n",
      "Optimal solution found (tolerance 1.00e-04)\n",
      "Best objective 2.769566994569e+00, best bound 2.769566994569e+00, gap 0.0000%\n"
     ]
    }
   ],
   "source": [
    "# Objective\n",
    "\n",
    "obj = quicksum(service_cost[arc] * x_ijl[arc,l] for arc in arc_list  for l in veh_list )\n",
    "\n",
    "#obj = x_ijl.prod(service_cost)\n",
    "\n",
    "\n",
    "model.setObjective(obj, GRB.MINIMIZE) # Minimize profit\n",
    "\n",
    "model.optimize()"
   ]
  },
  {
   "cell_type": "code",
   "execution_count": 31,
   "metadata": {},
   "outputs": [
    {
     "name": "stdout",
     "output_type": "stream",
     "text": [
      "\n",
      "    Variable            X \n",
      "-------------------------\n",
      "  x_out3Veh1            1 \n",
      "  x_out7Veh2            1 \n",
      "    x_19Veh1            1 \n",
      "   x_2inVeh1            1 \n",
      "   x_2inVeh2            1 \n",
      "    x_31Veh1            1 \n",
      "    x_48Veh2            1 \n",
      "   x_512Veh2            1 \n",
      "    x_62Veh2            1 \n",
      "    x_75Veh2            1 \n",
      "   x_810Veh2            1 \n",
      "   x_911Veh1            1 \n",
      "   x_106Veh2            1 \n",
      "   x_112Veh1            1 \n",
      "   x_124Veh2            1 \n",
      "start_time_out_Veh1            1 \n",
      "start_time_out_Veh2            1 \n",
      "start_time_in_Veh1      7.25387 \n",
      "start_time_in_Veh2      10.7935 \n",
      "acc_demand_1_Veh1          200 \n",
      "start_time_1_Veh1      3.53587 \n",
      "acc_demand_1_Veh2          200 \n",
      "start_time_1_Veh2            1 \n",
      "acc_demand_2_Veh1          200 \n",
      "start_time_2_Veh1      6.40852 \n",
      "acc_demand_2_Veh2          200 \n",
      "start_time_2_Veh2      9.94814 \n",
      "start_time_3_Veh1      2.32503 \n",
      "start_time_3_Veh2            1 \n",
      "start_time_4_Veh1            1 \n",
      "acc_demand_4_Veh2      17.9997 \n",
      "start_time_4_Veh2      5.74136 \n",
      "start_time_5_Veh1           20 \n",
      "acc_demand_5_Veh2      3.36301 \n",
      "start_time_5_Veh2      3.50317 \n",
      "start_time_6_Veh1            1 \n",
      "acc_demand_6_Veh2      38.2869 \n",
      "start_time_6_Veh2      9.09191 \n",
      "start_time_7_Veh1            1 \n",
      "start_time_7_Veh2      2.80538 \n",
      "start_time_8_Veh1            1 \n",
      "acc_demand_8_Veh2      26.9784 \n",
      "start_time_8_Veh2      7.35673 \n",
      "start_time_9_Veh1      4.13508 \n",
      "start_time_9_Veh2            1 \n",
      "start_time_10_Veh1            1 \n",
      "acc_demand_10_Veh2      29.7962 \n",
      "start_time_10_Veh2      7.70033 \n",
      "acc_demand_11_Veh1      9.42499 \n",
      "start_time_11_Veh1      5.34628 \n",
      "start_time_11_Veh2            1 \n",
      "start_time_12_Veh1            1 \n",
      "acc_demand_12_Veh2      10.8286 \n",
      "start_time_12_Veh2      4.36342 \n",
      "       RgR38           19 \n",
      "       RgR39           19 \n",
      "       RgR40      12.7461 \n",
      "       RgR41      9.20651 \n",
      "       RgR42      16.4641 \n",
      "       RgR43           19 \n",
      "       RgR44      13.5915 \n",
      "       RgR45      10.0519 \n",
      "       RgR46       17.675 \n",
      "       RgR47           19 \n",
      "       RgR48           19 \n",
      "       RgR49      14.2586 \n",
      "       RgR51      16.4968 \n",
      "       RgR52           19 \n",
      "       RgR53      10.9081 \n",
      "       RgR54           19 \n",
      "       RgR55      17.1946 \n",
      "       RgR56           19 \n",
      "       RgR57      12.6433 \n",
      "       RgR58      15.8649 \n",
      "       RgR59           19 \n",
      "       RgR60           19 \n",
      "       RgR61      12.2997 \n",
      "       RgR62      14.6537 \n",
      "       RgR63           19 \n",
      "       RgR64           19 \n",
      "       RgR65      15.6366 \n"
     ]
    }
   ],
   "source": [
    "model.printAttr('X')"
   ]
  }
 ],
 "metadata": {
  "kernelspec": {
   "display_name": "Python 3",
   "language": "python",
   "name": "python3"
  },
  "language_info": {
   "codemirror_mode": {
    "name": "ipython",
    "version": 3
   },
   "file_extension": ".py",
   "mimetype": "text/x-python",
   "name": "python",
   "nbconvert_exporter": "python",
   "pygments_lexer": "ipython3",
   "version": "3.7.1"
  }
 },
 "nbformat": 4,
 "nbformat_minor": 2
}
