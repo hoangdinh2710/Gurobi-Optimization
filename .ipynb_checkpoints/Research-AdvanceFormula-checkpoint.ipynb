{
 "cells": [
  {
   "cell_type": "code",
   "execution_count": 1,
   "metadata": {},
   "outputs": [],
   "source": [
    "from gurobipy import *\n",
    "import numpy as np"
   ]
  },
  {
   "cell_type": "code",
   "execution_count": 2,
   "metadata": {},
   "outputs": [
    {
     "name": "stdout",
     "output_type": "stream",
     "text": [
      "Academic license - for non-commercial use only\n"
     ]
    }
   ],
   "source": [
    "# Define model:\n",
    "model = Model('WCVRPTW')"
   ]
  },
  {
   "cell_type": "code",
   "execution_count": 3,
   "metadata": {},
   "outputs": [],
   "source": [
    "# Capacity\n",
    "#Assume each car has 2000 pounds capacity\n",
    "cap = 2000"
   ]
  },
  {
   "cell_type": "code",
   "execution_count": 4,
   "metadata": {},
   "outputs": [],
   "source": [
    "# Depot\n",
    "depot_list = ['out','in']\n",
    "\n",
    "# Disposal:\n",
    "#Assume there are 2 disposal places\n",
    "m = 1\n",
    "dis_list =  list(map(str,[i for i in range(1,m+1)]))\n",
    "\n",
    "# Customer:\n",
    "#Assume there are 3 customers\n",
    "n = 2\n",
    "cus_list = list(map(str,[i for i in range(m+1,m+n+1)]))\n",
    "\n",
    "#V_list \n",
    "\n",
    "V_list =  depot_list + dis_list + cus_list\n",
    "\n",
    "# only depot & customer:\n",
    "\n",
    "de_cus_list = depot_list + cus_list\n"
   ]
  },
  {
   "cell_type": "code",
   "execution_count": 5,
   "metadata": {},
   "outputs": [],
   "source": [
    "# Set of Arc:\n",
    "\n",
    "arc_list = [(i,j) for i in V_list for j in V_list[:] if i!= j]\n",
    "\n",
    "# Remove duplicate value where i = j\n",
    "#arc_list.remove(('out','in'))\n",
    "#arc_list.remove(('in','out'))\n",
    "#remove_list = [arc_list[i] for i in range(0,len(arc_list)) if arc_list[i][0] == arc_list[i][1]]\n",
    "\n",
    "#for i in remove_list:\n",
    " #   arc_list.remove(i)\n",
    "    \n",
    "    \n",
    "arc_list1 = [(i,j) for i in V_list for j in V_list[:] if i!= j]\n",
    "arc_list1.remove(('out','in'))\n",
    "arc_list1.remove(('in','out'))"
   ]
  },
  {
   "cell_type": "code",
   "execution_count": 6,
   "metadata": {},
   "outputs": [],
   "source": [
    "# Set of Vehicle\n",
    "\n",
    "no_veh = 1\n",
    "veh_list =  [\"Veh\"+str(i) for i in range(1,no_veh+1)]"
   ]
  },
  {
   "cell_type": "code",
   "execution_count": 8,
   "metadata": {},
   "outputs": [],
   "source": [
    "# Set travel time: \n",
    "#travel_time_rd = np.random.rand(len(arc_list))\n",
    "travel_time_one = np.ones(len(arc_list))\n",
    "travel_time = dict(zip(arc_list,travel_time_one))\n",
    "\n",
    "# Set service cost:\n",
    "service_cost_rd = np.random.rand(len(arc_list))\n",
    "service_cost = dict(zip(arc_list,service_cost_rd))\n",
    "#service_cost = model.addVars(arc_list, name = \"service_cost\")\n",
    "\n",
    "# Set service time:\n",
    "service_time_rd = np.random.rand(len(V_list))\n",
    "service_time = dict(zip(V_list,service_time_rd))\n",
    "#service_time = model.addVars(V_list, name = \"service_time\")\n",
    "\n",
    "# Set time window low:\n",
    "#time_win_low_rd = np.random.rand(len(V_list))\n",
    "time_win_low_rd = np.ones(len(V_list))*7\n",
    "time_win_low = dict(zip(V_list,time_win_low_rd))\n",
    "#time_win_low = model.addVars(V_list, name = \"time_win_low\")\n",
    "\n",
    "# Set time window high:\n",
    "#time_win_high_rd = np.random.rand(len(V_list))\n",
    "time_win_high_rd = np.ones(len(V_list))*10\n",
    "time_win_high = dict(zip(V_list,time_win_high_rd))\n",
    "#time_win_high = model.addVars(V_list, name = \"time_win_high\")\n",
    "\n",
    "# Set amount pick up at customer i:\n",
    "pick_amount_rd_1 = np.zeros(len(depot_list) + len(dis_list)) \n",
    "pick_amount_rd_2 = np.random.rand(len(cus_list))*100\n",
    "pick_amount_rd = list(pick_amount_rd_1)+list(pick_amount_rd_2)\n",
    "pick_amount = dict(zip(V_list,pick_amount_rd))\n",
    "#pick_amount = model.addVars(cus_list, name = 'pick_amount' )\n"
   ]
  },
  {
   "cell_type": "code",
   "execution_count": 94,
   "metadata": {},
   "outputs": [],
   "source": [
    "# SET VARIABLES\n",
    "\n",
    "# x_ijl for every i,j in arc A, l in K\n",
    "#x_list = [tuple(i+[j]) for i in [list(i) for i in arc_list] for j in veh_list]\n",
    "x_list =  [ (arc,l) for arc in arc_list for l in veh_list]\n",
    "x_ijl = model.addVars(x_list,name = 'x_{0}{1}{2}'.format(x_list[0][0][0],x_list[0][0][1],x_list[0][1]),vtype=GRB.BINARY)\n",
    "\n",
    "# Set accumulative demand at note i in V , for vehicle l in K\n",
    "\n",
    "acc_demand_list = [(i,l) for i in V_list for l in veh_list]\n",
    "acc_demand = model.addVars(acc_demand_list,\n",
    "                           name = 'acc_demand_{0}_{1}'.format(acc_demand_list[0][0],acc_demand_list[0][1]))\n",
    "\n",
    "# Set the start time of service at note i in V for vehicle l in K\n",
    "start_time_list = [(i,l) for i in V_list for l in veh_list]\n",
    "start_time = model.addVars(start_time_list,\n",
    "                           name = 'start_time_{0}_{1}'.format(start_time_list[0][0],start_time_list[0][1]))\n"
   ]
  },
  {
   "cell_type": "code",
   "execution_count": 96,
   "metadata": {},
   "outputs": [],
   "source": [
    "model.update()"
   ]
  },
  {
   "cell_type": "code",
   "execution_count": 20,
   "metadata": {},
   "outputs": [],
   "source": [
    "# Set constraints"
   ]
  },
  {
   "cell_type": "code",
   "execution_count": 97,
   "metadata": {},
   "outputs": [
    {
     "data": {
      "text/plain": [
       "{'Veh1': <gurobi.Constr *Awaiting Model Update*>}"
      ]
     },
     "execution_count": 97,
     "metadata": {},
     "output_type": "execute_result"
    }
   ],
   "source": [
    "# Condition 2\n",
    "# Sum of x_ojl = 1\n",
    "\n",
    "# Create a list of outflow: \n",
    "ojl_list = [('out',j) for j in V_list if j != 'out']\n",
    "        \n",
    "model.addConstrs(\n",
    "        (quicksum(x_ijl[(arc, l)] for arc in ojl_list) == 1 for l in veh_list ), \"outflow_node\")"
   ]
  },
  {
   "cell_type": "code",
   "execution_count": 98,
   "metadata": {},
   "outputs": [
    {
     "data": {
      "text/plain": [
       "{'Veh1': <gurobi.Constr *Awaiting Model Update*>}"
      ]
     },
     "execution_count": 98,
     "metadata": {},
     "output_type": "execute_result"
    }
   ],
   "source": [
    "# Condition 3\n",
    "# Sum of x_ojl = 1\n",
    "\n",
    "# Create a list of inflow: \n",
    "iol_list = [(i,'in') for i in V_list if i!= 'in']\n",
    "        \n",
    "model.addConstrs(\n",
    "        (quicksum(x_ijl[(arc, l)] for arc in iol_list) == 1 for l in veh_list ), \"inflow_node\")"
   ]
  },
  {
   "cell_type": "code",
   "execution_count": 99,
   "metadata": {},
   "outputs": [
    {
     "data": {
      "text/plain": [
       "{'2': <gurobi.Constr *Awaiting Model Update*>,\n",
       " '3': <gurobi.Constr *Awaiting Model Update*>}"
      ]
     },
     "execution_count": 99,
     "metadata": {},
     "output_type": "execute_result"
    }
   ],
   "source": [
    "# Condition 4\n",
    "# Each customer is exactly service one\n",
    "\n",
    "model.addConstrs(\n",
    "        (quicksum(x_ijl[((i,j),veh)] for i in V_list for veh in veh_list if i!= j) \n",
    "         == 1 for j in cus_list ), \"each_cus_serv_one\")\n"
   ]
  },
  {
   "cell_type": "code",
   "execution_count": 100,
   "metadata": {},
   "outputs": [
    {
     "data": {
      "text/plain": [
       "{('1', 'Veh1'): <gurobi.Constr *Awaiting Model Update*>,\n",
       " ('2', 'Veh1'): <gurobi.Constr *Awaiting Model Update*>,\n",
       " ('3', 'Veh1'): <gurobi.Constr *Awaiting Model Update*>}"
      ]
     },
     "execution_count": 100,
     "metadata": {},
     "output_type": "execute_result"
    }
   ],
   "source": [
    "# Condition 5: Inflow = Outflow at every node\n",
    "\n",
    "model.addConstrs(\n",
    "(quicksum(x_ijl[(i,j),l] for i in V_list if i!= j) \n",
    " == quicksum(x_ijl[(j,i),l] for i in V_list if i!= j)\n",
    " for j in V_list[len(depot_list):] for l in veh_list), \"inflow=outflow\" )\n",
    "\n"
   ]
  },
  {
   "cell_type": "code",
   "execution_count": 119,
   "metadata": {},
   "outputs": [],
   "source": [
    "# Condition 6_1 and 6_2\n",
    "for i in V_list:\n",
    "    for l in veh_list:\n",
    "        model.addConstr(start_time[(i,l)] == [time_win_low[i],time_win_high[i]], \n",
    "                       \"starttime_{0}_{1}\".format(i,l))\n",
    "                                                                                                    \n",
    "# More advance:\n",
    "\n",
    "#model.addConstrs((start_time[(i,l)] == [time_win_low[i],time_win_high[i]] for i in V_list for l in veh_list), \"starttime\")"
   ]
  },
  {
   "cell_type": "code",
   "execution_count": 112,
   "metadata": {},
   "outputs": [
    {
     "data": {
      "text/plain": [
       "[('out', 'Veh1'), ('in', 'Veh1'), ('1', 'Veh1'), ('2', 'Veh1'), ('3', 'Veh1')]"
      ]
     },
     "execution_count": 112,
     "metadata": {},
     "output_type": "execute_result"
    }
   ],
   "source": [
    "start_time_list"
   ]
  },
  {
   "cell_type": "code",
   "execution_count": 69,
   "metadata": {},
   "outputs": [
    {
     "data": {
      "text/plain": [
       "<gurobi.Var *Awaiting Model Update*>"
      ]
     },
     "execution_count": 69,
     "metadata": {},
     "output_type": "execute_result"
    }
   ],
   "source": [
    "start_time[('1','Veh1')]"
   ]
  },
  {
   "cell_type": "code",
   "execution_count": 61,
   "metadata": {},
   "outputs": [
    {
     "data": {
      "text/plain": [
       "{('out', 'Veh1'): <gurobi.Var *Awaiting Model Update*>,\n",
       " ('in', 'Veh1'): <gurobi.Var *Awaiting Model Update*>,\n",
       " ('1', 'Veh1'): <gurobi.Var *Awaiting Model Update*>,\n",
       " ('2', 'Veh1'): <gurobi.Var *Awaiting Model Update*>,\n",
       " ('3', 'Veh1'): <gurobi.Var *Awaiting Model Update*>}"
      ]
     },
     "execution_count": 61,
     "metadata": {},
     "output_type": "execute_result"
    }
   ],
   "source": [
    "start_time"
   ]
  },
  {
   "cell_type": "code",
   "execution_count": 26,
   "metadata": {},
   "outputs": [
    {
     "data": {
      "text/plain": [
       "{(('out', 'in'), 'Veh1'): <gurobi.Constr *Awaiting Model Update*>,\n",
       " (('out', '1'), 'Veh1'): <gurobi.Constr *Awaiting Model Update*>,\n",
       " (('out', '2'), 'Veh1'): <gurobi.Constr *Awaiting Model Update*>,\n",
       " (('out', '3'), 'Veh1'): <gurobi.Constr *Awaiting Model Update*>,\n",
       " (('in', 'out'), 'Veh1'): <gurobi.Constr *Awaiting Model Update*>,\n",
       " (('in', '1'), 'Veh1'): <gurobi.Constr *Awaiting Model Update*>,\n",
       " (('in', '2'), 'Veh1'): <gurobi.Constr *Awaiting Model Update*>,\n",
       " (('in', '3'), 'Veh1'): <gurobi.Constr *Awaiting Model Update*>,\n",
       " (('1', 'out'), 'Veh1'): <gurobi.Constr *Awaiting Model Update*>,\n",
       " (('1', 'in'), 'Veh1'): <gurobi.Constr *Awaiting Model Update*>,\n",
       " (('1', '2'), 'Veh1'): <gurobi.Constr *Awaiting Model Update*>,\n",
       " (('1', '3'), 'Veh1'): <gurobi.Constr *Awaiting Model Update*>,\n",
       " (('2', 'out'), 'Veh1'): <gurobi.Constr *Awaiting Model Update*>,\n",
       " (('2', 'in'), 'Veh1'): <gurobi.Constr *Awaiting Model Update*>,\n",
       " (('2', '1'), 'Veh1'): <gurobi.Constr *Awaiting Model Update*>,\n",
       " (('2', '3'), 'Veh1'): <gurobi.Constr *Awaiting Model Update*>,\n",
       " (('3', 'out'), 'Veh1'): <gurobi.Constr *Awaiting Model Update*>,\n",
       " (('3', 'in'), 'Veh1'): <gurobi.Constr *Awaiting Model Update*>,\n",
       " (('3', '1'), 'Veh1'): <gurobi.Constr *Awaiting Model Update*>,\n",
       " (('3', '2'), 'Veh1'): <gurobi.Constr *Awaiting Model Update*>}"
      ]
     },
     "execution_count": 26,
     "metadata": {},
     "output_type": "execute_result"
    }
   ],
   "source": [
    "# Constraint 7:\n",
    "M = 100000\n",
    "model.addConstrs((start_time[(arc[0], l)] +\n",
    "                  service_time[arc[0]] + travel_time[(arc[0],arc[1])]\n",
    "                  <= start_time[(arc[1],l)] + (1 - x_ijl[arc,l])*M  \n",
    "                  for arc in arc_list for l in veh_list ),\"time_constraints\")"
   ]
  },
  {
   "cell_type": "code",
   "execution_count": 78,
   "metadata": {},
   "outputs": [
    {
     "data": {
      "text/plain": [
       "{'Veh1': <gurobi.Constr *Awaiting Model Update*>}"
      ]
     },
     "execution_count": 78,
     "metadata": {},
     "output_type": "execute_result"
    }
   ],
   "source": [
    "# Constaint 8:\n",
    "# 8a\n",
    "model.addConstrs((acc_demand[('out',l)] == 0 for l in veh_list)  , 'empty_out')\n",
    "# 8b\n",
    "model.addConstrs((acc_demand[('in',l)] == 0 for l in veh_list)  , 'empty_in')"
   ]
  },
  {
   "cell_type": "code",
   "execution_count": 79,
   "metadata": {},
   "outputs": [
    {
     "data": {
      "text/plain": [
       "{('out', 'in', 'Veh1'): <gurobi.Constr *Awaiting Model Update*>,\n",
       " ('out', '1', 'Veh1'): <gurobi.Constr *Awaiting Model Update*>,\n",
       " ('out', '2', 'Veh1'): <gurobi.Constr *Awaiting Model Update*>,\n",
       " ('out', '3', 'Veh1'): <gurobi.Constr *Awaiting Model Update*>,\n",
       " ('in', 'out', 'Veh1'): <gurobi.Constr *Awaiting Model Update*>,\n",
       " ('in', '1', 'Veh1'): <gurobi.Constr *Awaiting Model Update*>,\n",
       " ('in', '2', 'Veh1'): <gurobi.Constr *Awaiting Model Update*>,\n",
       " ('in', '3', 'Veh1'): <gurobi.Constr *Awaiting Model Update*>,\n",
       " ('2', 'out', 'Veh1'): <gurobi.Constr *Awaiting Model Update*>,\n",
       " ('2', 'in', 'Veh1'): <gurobi.Constr *Awaiting Model Update*>,\n",
       " ('2', '1', 'Veh1'): <gurobi.Constr *Awaiting Model Update*>,\n",
       " ('2', '3', 'Veh1'): <gurobi.Constr *Awaiting Model Update*>,\n",
       " ('3', 'out', 'Veh1'): <gurobi.Constr *Awaiting Model Update*>,\n",
       " ('3', 'in', 'Veh1'): <gurobi.Constr *Awaiting Model Update*>,\n",
       " ('3', '1', 'Veh1'): <gurobi.Constr *Awaiting Model Update*>,\n",
       " ('3', '2', 'Veh1'): <gurobi.Constr *Awaiting Model Update*>}"
      ]
     },
     "execution_count": 79,
     "metadata": {},
     "output_type": "execute_result"
    }
   ],
   "source": [
    "# Constraint 9:\n",
    "\n",
    "model.addConstrs((acc_demand[i,l] + pick_amount[i] <= acc_demand[j,l] \n",
    "                  + (1 - x_ijl[(i,j),l])*M for i in de_cus_list for j  in V_list for l in veh_list if i!=j )  ,\"acc_demand_constr\")\n"
   ]
  },
  {
   "cell_type": "code",
   "execution_count": 82,
   "metadata": {},
   "outputs": [
    {
     "data": {
      "text/plain": [
       "{('out', 'Veh1'): <gurobi.Constr *Awaiting Model Update*>,\n",
       " ('in', 'Veh1'): <gurobi.Constr *Awaiting Model Update*>,\n",
       " ('1', 'Veh1'): <gurobi.Constr *Awaiting Model Update*>,\n",
       " ('2', 'Veh1'): <gurobi.Constr *Awaiting Model Update*>,\n",
       " ('3', 'Veh1'): <gurobi.Constr *Awaiting Model Update*>}"
      ]
     },
     "execution_count": 82,
     "metadata": {},
     "output_type": "execute_result"
    }
   ],
   "source": [
    "# Constraint 10: Accumulative Demand < Cap\n",
    "model.addConstrs((acc_demand[(i,l)] <= cap for i in V_list for l in veh_list)  , 'acc_cap_smaller_C')"
   ]
  },
  {
   "cell_type": "code",
   "execution_count": 84,
   "metadata": {},
   "outputs": [
    {
     "data": {
      "text/plain": [
       "{('out', 'Veh1'): <gurobi.Constr *Awaiting Model Update*>,\n",
       " ('in', 'Veh1'): <gurobi.Constr *Awaiting Model Update*>,\n",
       " ('1', 'Veh1'): <gurobi.Constr *Awaiting Model Update*>,\n",
       " ('2', 'Veh1'): <gurobi.Constr *Awaiting Model Update*>,\n",
       " ('3', 'Veh1'): <gurobi.Constr *Awaiting Model Update*>}"
      ]
     },
     "execution_count": 84,
     "metadata": {},
     "output_type": "execute_result"
    }
   ],
   "source": [
    "# Constraint 11: Accumulative Demand > 0\n",
    "model.addConstrs((acc_demand[(i,l)] >= 0 for i in V_list for l in veh_list)  , 'acc_cap_positive')"
   ]
  },
  {
   "cell_type": "code",
   "execution_count": 31,
   "metadata": {},
   "outputs": [],
   "source": [
    "# Constraint 12"
   ]
  },
  {
   "cell_type": "code",
   "execution_count": 94,
   "metadata": {},
   "outputs": [],
   "source": [
    "#model.addConstrs(( x_ijl[arc,veh] == 1 for arc in arc_list for veh in veh_list  ),\"acc_cap_smaller_C\")\n",
    "#model.addConstrs(\n",
    "       # (x_ijl[arc,l] == 1 or 0  for arc in arc_list for l in veh_list  \n",
    "       #  ), \"acc_cap_smaller_C\")"
   ]
  },
  {
   "cell_type": "code",
   "execution_count": 101,
   "metadata": {},
   "outputs": [
    {
     "name": "stdout",
     "output_type": "stream",
     "text": [
      "Optimize a model with 159 rows, 90 columns and 338 nonzeros\n",
      "Variable types: 70 continuous, 20 integer (20 binary)\n",
      "Coefficient statistics:\n",
      "  Matrix range     [1e+00, 1e+05]\n",
      "  Objective range  [0e+00, 0e+00]\n",
      "  Bounds range     [1e+00, 1e+00]\n",
      "  RHS range        [1e+00, 1e+05]\n",
      "Presolve removed 14 rows and 39 columns\n",
      "Presolve time: 0.00s\n",
      "\n",
      "Explored 0 nodes (0 simplex iterations) in 0.00 seconds\n",
      "Thread count was 1 (of 8 available processors)\n",
      "\n",
      "Solution count 0\n",
      "\n",
      "Model is infeasible\n",
      "Best objective -, best bound -, gap -\n"
     ]
    }
   ],
   "source": [
    "# Objective\n",
    "\n",
    "#obj = quicksum(service_cost[arc] * x_ijl[arc,l] for arc in arc_list  for l in veh_list )\n",
    "\n",
    "obj = x_ijl.prod(service_cost)\n",
    "\n",
    "#for veh in veh_list\n",
    "model.setObjective(obj, GRB.MINIMIZE) # Minimize profit\n",
    "\n",
    "model.optimize()"
   ]
  }
 ],
 "metadata": {
  "kernelspec": {
   "display_name": "Python 3",
   "language": "python",
   "name": "python3"
  },
  "language_info": {
   "codemirror_mode": {
    "name": "ipython",
    "version": 3
   },
   "file_extension": ".py",
   "mimetype": "text/x-python",
   "name": "python",
   "nbconvert_exporter": "python",
   "pygments_lexer": "ipython3",
   "version": "3.7.3"
  }
 },
 "nbformat": 4,
 "nbformat_minor": 4
}
